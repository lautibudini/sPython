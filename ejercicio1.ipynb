{
 "cells": [
  {
   "cell_type": "markdown",
   "metadata": {},
   "source": [
    "- Copio el readme.md del github y lo asigno a una variable\n"
   ]
  },
  {
   "cell_type": "code",
   "execution_count": 4,
   "metadata": {},
   "outputs": [],
   "source": [
    "txt = \"\"\"NumPy is the fundamental package for scientific computing with Python.\n",
    "\n",
    "Website: https://www.numpy.org\n",
    "Documentation: https://numpy.org/doc\n",
    "Mailing list: https://mail.python.org/mailman/listinfo/numpy-discussion\n",
    "Source code: https://github.com/numpy/numpy\n",
    "Contributing: https://www.numpy.org/devdocs/dev/index.html\n",
    "Bug reports: https://github.com/numpy/numpy/issues\n",
    "Report a security vulnerability: https://tidelift.com/docs/security\n",
    "It provides:\n",
    "\n",
    "a powerful N-dimensional array object\n",
    "sophisticated (broadcasting) functions\n",
    "tools for integrating C/C++ and Fortran code\n",
    "useful linear algebra, Fourier transform, and random number capabilities\n",
    "Testing:\n",
    "\n",
    "NumPy requires pytest and hypothesis. Tests can then be run after installation with:\n",
    "\n",
    "python -c \"import numpy, sys; sys.exit(numpy.test() is False)\"\n",
    "Code of Conduct\n",
    "NumPy is a community-driven open source project developed by a diverse group of contributors. The NumPy leadership has made a strong commitment to creating an open, inclusive, and positive community. Please read the NumPy Code of Conduct for guidance on how to interact with others in a way that makes our community thrive.\n",
    "\n",
    "Call for Contributions\n",
    "The NumPy project welcomes your expertise and enthusiasm!\n",
    "\n",
    "Small improvements or fixes are always appreciated. If you are considering larger contributions to the source code, please contact us through the mailing list first.\n",
    "\n",
    "Writing code isn’t the only way to contribute to NumPy. You can also:\n",
    "\n",
    "review pull requests\n",
    "help us stay on top of new and old issues\n",
    "develop tutorials, presentations, and other educational materials\n",
    "maintain and improve our website\n",
    "develop graphic design for our brand assets and promotional materials\n",
    "translate website content\n",
    "help with outreach and onboard new contributors\n",
    "write grant proposals and help with other fundraising efforts\n",
    "For more information about the ways you can contribute to NumPy, visit our website. If you’re unsure where to start or how your skills fit in, reach out! You can ask on the mailing list or here, on GitHub, by opening a new issue or leaving a comment on a relevant issue that is already open.\n",
    "\n",
    "Our preferred channels of communication are all public, but if you’d like to speak to us in private first, contact our community coordinators at numpy-team@googlegroups.com or on Slack (write numpy-team@googlegroups.com for an invitation).\n",
    "\n",
    "We also have a biweekly community call, details of which are announced on the mailing list. You are very welcome to join.\n",
    "\n",
    "If you are new to contributing to open source, this guide helps explain why, what, and how to successfully get involved.\"\"\""
   ]
  },
  {
   "cell_type": "markdown",
   "metadata": {},
   "source": [
    "- separo el texto en lineas con el metodo split, para poder trabajar como lo pide"
   ]
  },
  {
   "cell_type": "code",
   "execution_count": 5,
   "metadata": {},
   "outputs": [],
   "source": [
    "aux = txt.split('\\n')\n",
    "vocals = ('a','e','i','o','u','A','E','I','O','U')"
   ]
  },
  {
   "cell_type": "markdown",
   "metadata": {},
   "source": [
    "- al tener una lista de lineas del texto:\n",
    "- 1- divido esa linea en palabras con split\n",
    "- 2- como debo acceder al segundo elem pos[1], debo preguntar si posee mas de una palabra esa linea\n",
    "- 3- si es asi, entonces itero  hasta ver si alguna letra de la palabra es vocal para imprimirla y cortar el loop, \n",
    "sino imprime mas de una vez esa linea si tiene mas vocales\n"
   ]
  },
  {
   "cell_type": "code",
   "execution_count": 6,
   "metadata": {},
   "outputs": [
    {
     "name": "stdout",
     "output_type": "stream",
     "text": [
      "NumPy is the fundamental package for scientific computing with Python.\n",
      "Website: https://www.numpy.org\n",
      "Documentation: https://numpy.org/doc\n",
      "Mailing list: https://mail.python.org/mailman/listinfo/numpy-discussion\n",
      "Source code: https://github.com/numpy/numpy\n",
      "Contributing: https://www.numpy.org/devdocs/dev/index.html\n",
      "Bug reports: https://github.com/numpy/numpy/issues\n",
      "Report a security vulnerability: https://tidelift.com/docs/security\n",
      "It provides:\n",
      "a powerful N-dimensional array object\n",
      "sophisticated (broadcasting) functions\n",
      "tools for integrating C/C++ and Fortran code\n",
      "useful linear algebra, Fourier transform, and random number capabilities\n",
      "NumPy requires pytest and hypothesis. Tests can then be run after installation with:\n",
      "Code of Conduct\n",
      "NumPy is a community-driven open source project developed by a diverse group of contributors. The NumPy leadership has made a strong commitment to creating an open, inclusive, and positive community. Please read the NumPy Code of Conduct for guidance on how to interact with others in a way that makes our community thrive.\n",
      "Call for Contributions\n",
      "The NumPy project welcomes your expertise and enthusiasm!\n",
      "Small improvements or fixes are always appreciated. If you are considering larger contributions to the source code, please contact us through the mailing list first.\n",
      "Writing code isn’t the only way to contribute to NumPy. You can also:\n",
      "review pull requests\n",
      "help us stay on top of new and old issues\n",
      "develop tutorials, presentations, and other educational materials\n",
      "maintain and improve our website\n",
      "develop graphic design for our brand assets and promotional materials\n",
      "translate website content\n",
      "help with outreach and onboard new contributors\n",
      "write grant proposals and help with other fundraising efforts\n",
      "For more information about the ways you can contribute to NumPy, visit our website. If you’re unsure where to start or how your skills fit in, reach out! You can ask on the mailing list or here, on GitHub, by opening a new issue or leaving a comment on a relevant issue that is already open.\n",
      "Our preferred channels of communication are all public, but if you’d like to speak to us in private first, contact our community coordinators at numpy-team@googlegroups.com or on Slack (write numpy-team@googlegroups.com for an invitation).\n",
      "We also have a biweekly community call, details of which are announced on the mailing list. You are very welcome to join.\n",
      "If you are new to contributing to open source, this guide helps explain why, what, and how to successfully get involved.\n"
     ]
    }
   ],
   "source": [
    "for linea in aux:\n",
    "    palabras = linea.split(\" \")\n",
    "    if len(palabras) >1 :\n",
    "        for char in palabras[1]:\n",
    "            if char in vocals:\n",
    "                print(linea)\n",
    "                break"
   ]
  }
 ],
 "metadata": {
  "kernelspec": {
   "display_name": "venv",
   "language": "python",
   "name": "python3"
  },
  "language_info": {
   "codemirror_mode": {
    "name": "ipython",
    "version": 3
   },
   "file_extension": ".py",
   "mimetype": "text/x-python",
   "name": "python",
   "nbconvert_exporter": "python",
   "pygments_lexer": "ipython3",
   "version": "3.11.7"
  }
 },
 "nbformat": 4,
 "nbformat_minor": 2
}
