{
 "cells": [
  {
   "cell_type": "markdown",
   "metadata": {},
   "source": [
    "Dada una frase y un string ingresados por teclado (en ese orden), genere una lista de\n",
    "palabras, y sobre ella, informe la cantidad de palabras en las que se encuentra el\n",
    "string"
   ]
  },
  {
   "cell_type": "code",
   "execution_count": 37,
   "metadata": {},
   "outputs": [],
   "source": [
    "frase = input('ingrese una frase :')\n",
    "palabra = input('ingrese una palabra: ')"
   ]
  },
  {
   "cell_type": "markdown",
   "metadata": {},
   "source": [
    "- genero la lista de palabras y pongo en minuscula asi no distingue.\n",
    "- hago una funcion que compare si cotiene esa letra o si la palabra es igual, a partir de ahi sumo."
   ]
  },
  {
   "cell_type": "code",
   "execution_count": 38,
   "metadata": {},
   "outputs": [
    {
     "name": "stdout",
     "output_type": "stream",
     "text": [
      "la frase ingresada : tigres tres tristes\n",
      "la palabra ingrasada : tigres\n",
      "se repite : 1\n"
     ]
    }
   ],
   "source": [
    "def cant(frase,palabra):\n",
    "    sum = 0\n",
    "    for e in frase:\n",
    "        if palabra in e:\n",
    "            sum +=1\n",
    "    return sum\n",
    "\n",
    "print(f'la frase ingresada : {frase}')\n",
    "print(f'la palabra ingrasada : {palabra}')\n",
    "frase = frase.lower()\n",
    "frase = frase.split(\" \")\n",
    "palabra = palabra.lower\n",
    "print(f'se repite : {cant(frase,palabra)}')\n"
   ]
  }
 ],
 "metadata": {
  "kernelspec": {
   "display_name": "venv",
   "language": "python",
   "name": "python3"
  },
  "language_info": {
   "codemirror_mode": {
    "name": "ipython",
    "version": 3
   },
   "file_extension": ".py",
   "mimetype": "text/x-python",
   "name": "python",
   "nbconvert_exporter": "python",
   "pygments_lexer": "ipython3",
   "version": "3.11.7"
  }
 },
 "nbformat": 4,
 "nbformat_minor": 2
}
