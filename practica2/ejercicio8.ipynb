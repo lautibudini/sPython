{
 "cells": [
  {
   "cell_type": "markdown",
   "metadata": {},
   "source": [
    "Escriba un programa que solicite que se ingrese una palabra o frase y permita\n",
    "identificar si la misma es un Heterograma (tenga en cuenta que el contenido del enlace\n",
    "es una traducción del inglés por lo cual las palabras que nombra no son heterogramas\n",
    "en español). Un Heterograma es una palabra o frase que no tiene ninguna letra\n",
    "repetida entre sus caracteres.\n",
    "\n",
    "Tener en cuenta:\n",
    "- Lo que no se puede repetir en la frase son sólo aquellos caracteres que sean\n",
    "letras.\n",
    "- No se distingue entre mayúsculas y minúsculas, es decir si en la frase o palabra\n",
    "tenemos la letra \"T\" y la letra \"t\" la misma NO será un Hererograma.\n",
    "- Para simplificar el ejercicio vamos a tomar como que las letras con tilde y sin tilde\n",
    "son distintas. Ya que Python las diferencia:\n",
    "\n",
    "Ejemplos: \n",
    "\n",
    "- Entreda       ¿Heterograma?\n",
    "- cruzamiento    Sí\n",
    "- centrifugados  Sí\n",
    "- portón         Sí\n",
    "- casa           No\n",
    "- día de sol     No\n",
    "- con diez uñas  Sí\n",
    "- no-se-duplica  Sí\n"
   ]
  },
  {
   "cell_type": "code",
   "execution_count": 41,
   "metadata": {},
   "outputs": [],
   "source": [
    "frase = input('ingrese una palabra o frase y le diremos si es heterograma o no ')"
   ]
  },
  {
   "cell_type": "markdown",
   "metadata": {},
   "source": [
    "- usamos el metodo counter para ver si se repiten las letras y darnos cuenta\n"
   ]
  },
  {
   "cell_type": "code",
   "execution_count": 42,
   "metadata": {},
   "outputs": [
    {
     "name": "stdout",
     "output_type": "stream",
     "text": [
      "Es heterograma\n"
     ]
    }
   ],
   "source": [
    "from collections import Counter \n",
    "\n",
    "def aceptable(dic):\n",
    "    valor = True\n",
    "    for c,v in dic.items():\n",
    "        if v != 1:\n",
    "            valor = False\n",
    "            break\n",
    "    if (valor == True):\n",
    "        return 'Es heterograma'\n",
    "    else:\n",
    "        return 'No es heterograma'\n",
    "\n",
    "if (len(frase)> 1):\n",
    "    frase = frase.replace(\" \", \"\")\n",
    "res = Counter(frase)\n",
    "print(aceptable(res))"
   ]
  }
 ],
 "metadata": {
  "kernelspec": {
   "display_name": "venv",
   "language": "python",
   "name": "python3"
  },
  "language_info": {
   "codemirror_mode": {
    "name": "ipython",
    "version": 3
   },
   "file_extension": ".py",
   "mimetype": "text/x-python",
   "name": "python",
   "nbconvert_exporter": "python",
   "pygments_lexer": "ipython3",
   "version": "3.11.7"
  }
 },
 "nbformat": 4,
 "nbformat_minor": 2
}
