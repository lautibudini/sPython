{
 "cells": [
  {
   "cell_type": "markdown",
   "metadata": {},
   "source": [
    "Dada una frase contar mayúsculas, minúsculas, caracteres no letras y la cantidad de\n",
    "palabras sin distinguir entre mayúsculas y minúsculas"
   ]
  },
  {
   "cell_type": "code",
   "execution_count": 53,
   "metadata": {},
   "outputs": [],
   "source": [
    "text = \"\"\" La brecha salarial alcanzó el 27,7%: las mujeres ocupadas\n",
    "debieron trabajar 8 días y 10 horas más que los varones ocupados para\n",
    "Ganar lo mismo que ellos en un mes. \"\"\""
   ]
  },
  {
   "cell_type": "markdown",
   "metadata": {},
   "source": [
    "- Guiandome por la tabla ascii me doy cuenta si es mayuscula , minuscula u otro caracter"
   ]
  },
  {
   "cell_type": "code",
   "execution_count": 54,
   "metadata": {},
   "outputs": [
    {
     "name": "stdout",
     "output_type": "stream",
     "text": [
      "[('mayusculas =', 2), ('minusculas =', 119), ('no letras = ', 44)]\n",
      " cant palabars : 165\n"
     ]
    }
   ],
   "source": [
    "def contar(texto):\n",
    "    mayusculas = 0\n",
    "    minusculas = 0\n",
    "    no_letras = 0\n",
    "    for letra in texto:\n",
    "        if letra>='a' and  letra<='z':\n",
    "                minusculas +=1\n",
    "        elif letra>= 'A' and letra<= 'Z':\n",
    "                mayusculas += 1\n",
    "        else:\n",
    "             no_letras+=1\n",
    "    return [('mayusculas =', mayusculas),('minusculas =',minusculas),('no letras = ',no_letras)]\n",
    "    \n",
    "\n",
    "print(contar(text))\n",
    "print(f' cant palabars : {len(text)}')"
   ]
  }
 ],
 "metadata": {
  "kernelspec": {
   "display_name": "venv",
   "language": "python",
   "name": "python3"
  },
  "language_info": {
   "codemirror_mode": {
    "name": "ipython",
    "version": 3
   },
   "file_extension": ".py",
   "mimetype": "text/x-python",
   "name": "python",
   "nbconvert_exporter": "python",
   "pygments_lexer": "ipython3",
   "version": "3.11.7"
  }
 },
 "nbformat": 4,
 "nbformat_minor": 2
}
