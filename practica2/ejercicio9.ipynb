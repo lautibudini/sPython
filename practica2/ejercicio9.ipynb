{
 "cells": [
  {
   "cell_type": "markdown",
   "metadata": {},
   "source": [
    " Escriba un programa que solicite por teclado una palabra y calcule el valor de la misma\n",
    "dada la siguiente tabla de valores del juego Scrabble:\n",
    "\n",
    "- Letra valor\n",
    "- A, E, I, O, U, L, N, R, S, T  = 1\n",
    "- D, G = 2\n",
    "- B, C, M, P = 3\n",
    "- F, H, V, W, Y = 4\n",
    "- K = 5\n",
    "- J, X = 8\n",
    "- Q, Z = 10\n",
    "\n",
    "*Tenga en cuenta qué estructura elige para guardar estos valores en Python\n",
    "\n",
    "Ejemplo 1\n",
    "- Palabra: \"solo\"\n",
    "- valor: 4\n",
    "\n",
    "Ejemplo 2\n",
    "- Palabra: \"tomate\"\n",
    "- valor: 8"
   ]
  },
  {
   "cell_type": "code",
   "execution_count": 23,
   "metadata": {},
   "outputs": [],
   "source": [
    "valores = [(('A','E','I','O','U','L','N','R','S','T'),1), (('D','G'),2),\n",
    "(('B','C','M','P'),3),  (('F','H','V','W','Y'),4),  (('K'),5), (('J','K'),8),  (('Q','Z'),10)]"
   ]
  },
  {
   "cell_type": "code",
   "execution_count": 24,
   "metadata": {},
   "outputs": [
    {
     "name": "stdout",
     "output_type": "stream",
     "text": [
      "el valor de la palabra -tomate- es : 8\n"
     ]
    }
   ],
   "source": [
    "def result(palabra,valores):\n",
    "    resultado =0 \n",
    "    for i in palabra:\n",
    "        match i:\n",
    "            case valor if valor in valores[0][0]:\n",
    "                resultado+= valores[0][1]\n",
    "            case valor1 if valor1 in valores[1][0]:\n",
    "                resultado+= valores[1][1]\n",
    "            case valor2 if valor2 in valores[2][0]:\n",
    "                resultado+= valores[2][1]\n",
    "            case valor3 if valor3 in valores[3][0]:\n",
    "                resultado+= valores[3][1]\n",
    "            case valor4 if valor4 in valores[4][0]:\n",
    "                resultado+= valores[4][1]\n",
    "            case valor5 if valor5 in valores[5][0]:\n",
    "                resultado+= valores[5][1]\n",
    "    return resultado \n",
    "\n",
    "\n",
    "palabra = input('ingrese una palabra para saber su valor')\n",
    "print(f'el valor de la palabra -{palabra}- es : {result(palabra.upper(),valores)}')"
   ]
  }
 ],
 "metadata": {
  "kernelspec": {
   "display_name": "venv",
   "language": "python",
   "name": "python3"
  },
  "language_info": {
   "codemirror_mode": {
    "name": "ipython",
    "version": 3
   },
   "file_extension": ".py",
   "mimetype": "text/x-python",
   "name": "python",
   "nbconvert_exporter": "python",
   "pygments_lexer": "ipython3",
   "version": "3.11.7"
  }
 },
 "nbformat": 4,
 "nbformat_minor": 2
}
