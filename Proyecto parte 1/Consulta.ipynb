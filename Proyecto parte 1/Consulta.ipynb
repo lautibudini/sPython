{
 "cells": [
  {
   "cell_type": "markdown",
   "metadata": {
    "notebookRunGroups": {
     "groupValue": "1"
    }
   },
   "source": [
    "Importamos las librerias necesarias para poder trabajar."
   ]
  },
  {
   "cell_type": "code",
   "execution_count": 1,
   "metadata": {},
   "outputs": [],
   "source": [
    "import csv \n",
    "from modules import functions2\n",
    "from pathlib import Path"
   ]
  },
  {
   "cell_type": "markdown",
   "metadata": {},
   "source": [
    "Configuramos las rutas relativas al entorno de trabajo en este directorio para los datasets actualizados."
   ]
  },
  {
   "cell_type": "code",
   "execution_count": 3,
   "metadata": {},
   "outputs": [
    {
     "name": "stdout",
     "output_type": "stream",
     "text": [
      "custom_dataset\\ar-airports.csv\n"
     ]
    }
   ],
   "source": [
    "reader_path_airports = Path('custom_dataset', 'ar-airports.csv')\n",
    "reader_path_ar = Path('datasets', 'ar.csv')\n",
    "reader_path_lagos = Path('custom_dataset','lagos_arg.csv')\n",
    "reader_path_poblation = Path('custom_dataset', 'c2022_tp_c_resumen_adaptado.csv') \n",
    "reader_path_conectividad = Path('custom_dataset','Conectividad_Internet.csv')\n",
    "reader_path_censo = Path('custom_dataset','c2022_tp_c_resumen_adaptado.csv')\n",
    "print(reader_path_airports)\n"
   ]
  },
  {
   "cell_type": "markdown",
   "metadata": {},
   "source": [
    "1. Inciso para mostrar los diferentes tipos de aeropuertos según la columna 'type'.\n",
    "- Declaramos una lista vacía para almacenar los distintos tipos.\n",
    "- Abrimos el archivo 'ar-airports.csv' como lectura para poder llamar la función 'airports_types'.\n",
    "- La función se encarga de agregar a la lista una única vez los tipos de aeropuertos que hay en el archivo.\n",
    "- Imprimimos la lista de los tipos. "
   ]
  },
  {
   "cell_type": "code",
   "execution_count": null,
   "metadata": {},
   "outputs": [],
   "source": [
    "# Declaro una lista de tipos vacía\n",
    "type_list= []\n",
    "with reader_path_airports.open(mode= 'r', encoding='utf-8') as airport_file:\n",
    "    # Llamo a la función\n",
    "    type_list=functions2.airport_types(airport_file, type_list)\n",
    "# Imprimo la lista de los tipos de aeropuertos\n",
    "print(f'Los tipos de aeropuertos son los siguientes :')\n",
    "for type in type_list:\n",
    "    print(type)"
   ]
  },
  {
   "cell_type": "markdown",
   "metadata": {},
   "source": [
    "2. Inciso para mostrar los nombres de los aeropuertos según la elevación seleccionada, (bajo, medio, alto)\n",
    "- Declaramos una variable que almacenará la elección de la elevación. (bajo, medio, o alto)\n",
    "- Declaramos una lista vacía para almacenar los distintos aeropuertos.\n",
    "- Solicitamos al usuario el ingreso de la elección de elevación.\n",
    "- Abrimos el archivo 'ar-airports.csv' como lectura para poder llamar la función 'airport_elevation'.\n",
    "- La función se encarga de agregar a la lista el nombre de los aeropuertos que tengan ese tipo de elevación.\n",
    "- Imprimimos la lista de los aeropuertos. "
   ]
  },
  {
   "cell_type": "code",
   "execution_count": null,
   "metadata": {},
   "outputs": [],
   "source": [
    "# Declaro la variable que tomará el valor de la elevación y una lista vacía\n",
    "elevation = \"\"\n",
    "airports_elevation_list = []\n",
    "\n",
    "# Solicito que ingrese la elevación deseada\n",
    "elevation = input('Ingrese el valor de la elevación que desea conocer: bajo, medio o alto: ')\n",
    "\n",
    "with reader_path_airports.open(mode='r', encoding='utf-8') as airport_file:\n",
    "    # Llamo a la función \n",
    "    airports_elevation_list = functions2.airport_elevation(airport_file, elevation, airports_elevation_list)\n",
    "# Imprimo la lista de los aeropuertos de dicha elevación\n",
    "print(f'Del nivel de elevación \"{elevation}\" están los siguientes aeropuertos:')\n",
    "for airport in airports_elevation_list:\n",
    "    print(airport)"
   ]
  },
  {
   "cell_type": "markdown",
   "metadata": {},
   "source": [
    "3. Inciso para consultar los aeropuertos que tienen una mayor o menor elevación con respecto a un valor numérico dado.\n",
    "- Declaramos una variable que tomará el valor numérico de una elevación. \n",
    "- Declaramos una variable que tomará la elección del usuario de la elevación (menor o mayor)\n",
    "- Declaramos una lista vacía para almacenar los aeropuertos y sus elevaciones.\n",
    "- Solicitamos al usuario ingresar un valor numérico de elevación. \n",
    "- Solicitamos al usuario ingresar el criterio de la búsqueda, con mayor o menor elevación.\n",
    "- Abrimos el archivo 'ar-airports.csv' como lectura para poder llamar la función 'airport_lower_or_higher'.\n",
    "- La función se encarga de agregar a la lista el nombre de los aeropuertos y su elevación siguiendo los criterios elegidos por el usuario. Si es mayor o menor, según el \n",
    "  número que ingresó al principio. \n",
    "- Imprimimos la lista de los aeropuertos y su elevación. "
   ]
  },
  {
   "cell_type": "code",
   "execution_count": null,
   "metadata": {},
   "outputs": [],
   "source": [
    "# Declaro las variables del valor numérico de la elevación, la elección (mayor o menor) y la lista vacía\n",
    "elevation_number = ' '\n",
    "elevation_choice = ' '\n",
    "airports_elevation_list = []\n",
    "\n",
    "# Solicito al usuario ingresar el valor numérico de la elevación deseada\n",
    "elevation_number = input('Ingrese un valor numérico de elevación: ')\n",
    "\n",
    "# Solicito al usuario que ingrese si quiere conocer los aeropuertos con mayor o menor elevación\n",
    "elevation_choice = input('Ingrese si quiere conocer los aeropuertos con mayor o menor elevación: ')\n",
    "\n",
    "# Me aseguro que la opción esté en minúscula y sin espacios\n",
    "elevation_choice = elevation_choice.strip().lower()\n",
    "\n",
    "with reader_path_airports.open(mode='r', encoding='utf-8') as airport_file:\n",
    "    # Llamo a la función\n",
    "    airports_elevation_list = functions2.airport_lower_or_higher(airport_file, elevation_number, elevation_choice, airports_elevation_list)\n",
    "\n",
    "# Imprimir los aeropuertos con la elevación especificada\n",
    "print(f'Están los siguientes aeropuertos con elevación {elevation_choice} a {elevation_number}:')\n",
    "for airport in airports_elevation_list:\n",
    "    print(f'El aeropuerto {airport[0]} con elevación {airport[1]}')"
   ]
  },
  {
   "cell_type": "markdown",
   "metadata": {},
   "source": [
    "4. Inciso para mostrar los Lagos,Aeropuertos y Tipos de Conectividad en provincias con poblacion mayor o menor a un valor.\n",
    "- Abro los distintos tipos de archivos, de uno a la vez para poder procesar la informacion y poder imprimir en pantalla lo pedidio. \n",
    "- Primero lo que hacemos es pedir al usuario que ingrese un numero de poblacion y si desea filtrar las provincias con mayor o menor poblacion a la ingresada.\n",
    "- procesamos el archivo de lagos , llamando a la funcion que se encarga de hacerlo y nos retorna la lista con los lagos de las provincias filtradas anteriormente. \n",
    "- procesamos el archivo de aeropuertos , llamando a la funcion que se encarga de filtrarlo y nos retorna tambien una lista con los nombres de los aeropuertos en las distintas provincias filtradas al inicio del programa.\n",
    "- Por ultimo procesamos el archivo de conectividad, filtrando los tipos de conectividad que hay en cada una de las provincias que teniamos, donde se llama a la funcion que resuelve esto y retorna un diccionario , donde la clave es la provincia y el valor los tipos de conectividad. "
   ]
  },
  {
   "cell_type": "code",
   "execution_count": null,
   "metadata": {},
   "outputs": [],
   "source": [
    "\n",
    "#primero voy a pedir la cantidad de poblacion y sacar las provincias que tengan mayor y luego recorrer el resto de archivos\n",
    "number = input('ingrese un numero de poblacion ')\n",
    "option = input('ingrese si desea que se procesen las provincias con -mayor- o -menor- poblacion que la ingresada')\n",
    "\n",
    "with reader_path_censo.open(mode= 'r', encoding='utf-8',newline='') as file_censo:\n",
    "    reader = csv.reader(file_censo)\n",
    "\n",
    "    resultt =[]#Aca guardo las provincias con mayoro menor cantidad cumplen eso\n",
    "    \n",
    "    # Dos columnas que no se procesan por ser encabezado.\n",
    "    next(reader)\n",
    "    next(reader)\n",
    "    \n",
    "    match option.lower():\n",
    "        case 'mayor':\n",
    "            resultt = functions2.biggest_poblation(reader,number)\n",
    "        case 'menor':\n",
    "            resultt = functions2.smallest_poblation(reader,number)\n",
    "        case _:\n",
    "            print('tu opcion no es valida')\n",
    "    \n",
    "    \n",
    "\n",
    "\n",
    "# recorro los lagos y e imprimo\n",
    "print('------ INFORMACION DE LAGOS -----------')\n",
    "with reader_path_lagos.open(mode= 'r', encoding='utf-8',newline='') as file_lago:\n",
    "    reader = csv.reader(file_lago)\n",
    "    next(reader)\n",
    "    print(functions2.province_lakes(reader,resultt))\n",
    "        \n",
    "\n",
    "# recorro aeropuertos \n",
    "print('------ INFORMACION DE AEROPUERTOS -----------')\n",
    "with reader_path_airports.open(mode= 'r', encoding='utf-8',newline='') as file_air:\n",
    "    reader = csv.reader(file_air)\n",
    "    next(reader)\n",
    "    print(functions2.province_airports(reader,resultt))\n",
    "\n",
    "    \n",
    "# recorro para conectividad\n",
    "print('------ INFORMACION DE CONECTIVIDAD -----------')\n",
    "with reader_path_conectividad.open(mode= 'r', encoding='utf-8',newline='') as file_conectividad:\n",
    "    reader = csv.reader(file_conectividad)\n",
    "    \n",
    "    header = list(next(reader))\n",
    "    header = header[4:14] # aca me guardo los tipos de conectividad\n",
    "\n",
    "    print(functions2.province_conectivity(reader,resultt,header))   \n",
    "\n",
    "\n"
   ]
  },
  {
   "cell_type": "markdown",
   "metadata": {},
   "source": [
    "5. Inciso para mostrar los aeropuertos en las capitales de cada provincia\n",
    "- Abrimos el archivo 'ar.csv' como lectura para poder llamar a la funcion 'capitals_list'.\n",
    "- En la funcion mencionada: Se guardan las capitales en una lista, para asi poder tenerlas en cuenta a la hora de ver el archivo de los aeropuertos.En la columna CAPITAL, debemos ver si es 'primary' o 'admin', ya que significa que la informacion de esa columna es una capital, que esta en la columna CITY.\n",
    "- Luego abrimos el archivo de aeropuertos como lectura para procesar buscando : la columna MUNICIPALITY que ahí voy a ver donde se encuentra y se lo puede  vincular con el nombre de la capital, imprimiendo asi el nombre del aeropuerto.\n"
   ]
  },
  {
   "cell_type": "code",
   "execution_count": null,
   "metadata": {},
   "outputs": [],
   "source": [
    "\n",
    "\n",
    "with reader_path_ar.open(mode='r', encoding='utf-8', newline='') as file_ar:\n",
    "\n",
    "    reader = csv.reader(file_ar)\n",
    "    next(reader)\n",
    "\n",
    "    capitals = functions2.capitals_list(reader)\n",
    "\n",
    "with reader_path_airports.open(mode='r', encoding='utf-8', newline='') as file_airports:\n",
    "    airport_name = 3 \n",
    "    capital_name = 13\n",
    "\n",
    "    reader = csv.reader(file_airports)\n",
    "    not_process = next(reader)\n",
    "\n",
    "    for row in reader: \n",
    "        print(f' Aeropuerto : {row[airport_name]}, ubicado en la  capital de : {row[capital_name]}') if row[capital_name] in capitals else None"
   ]
  },
  {
   "cell_type": "markdown",
   "metadata": {},
   "source": [
    "6. Inciso para mostrar los lagos de una superficie (chico-medio-grande)\n",
    "- Pedimos que el usuario ingrese por teclado un tamaño de superficie, corroborando que sea algo valido . Donde las opciones validas las tenemos almacenadas en una lista, por ende si esta en la lista entonces es valida.\n",
    "- Si es valida entonces abrimos el archivo de 'lagos_arg.csv' en modo lectura  para asi poder llamar a la funcion pepito que lo que hace es retornar una lista donde estan todos los lagos con el tamaño pedido, que eso se corrobora dependiendo el contenido de la columna 'sup_tamaño' del archivo."
   ]
  },
  {
   "cell_type": "code",
   "execution_count": null,
   "metadata": {},
   "outputs": [],
   "source": [
    "option = input('Ingrese cuales lagos desea que se listen dependiendo de su tamaño (chico-medio-grande)')\n",
    "\n",
    "# Guardo en una lista las opciones validas asi corroboro  que el usuario ingrese una valida\n",
    "options = ['chico','medio','grande']\n",
    "\n",
    "if option in options:\n",
    "    with reader_path_lagos.open(mode ='r', encoding='utf-8',newline='') as file_lagos:\n",
    "        reader = csv.reader(file_lagos)\n",
    "        print(functions2.lake_size(option,reader))\n",
    "else:\n",
    "    print('Valor ingresado no valido')"
   ]
  },
  {
   "cell_type": "markdown",
   "metadata": {},
   "source": [
    "7. Inciso para mostrar las 5 Jurisdicciones con mayor porcentaje de población en situación de calle\n",
    "\n",
    "- Abro el archivo csv\n",
    "- Lo paso a una lista por comodidad\n",
    "- En max_percent llamo a una funcion que me devuelve una lista ordenada de mayor a menor que contiene jurisdicciones y porcentajes de pobreza\n",
    "- Imprimo solo las primeras 5"
   ]
  },
  {
   "cell_type": "code",
   "execution_count": null,
   "metadata": {},
   "outputs": [],
   "source": [
    "with reader_path_poblation.open(mode = 'r', encoding = 'utf-8') as file_reader:\n",
    "\n",
    "    reader = csv.reader(file_reader)\n",
    "    data = list(reader)\n",
    "\n",
    "    \n",
    "\n",
    "    max_percent = []\n",
    "    max_percent = functions2.max_five_percent(data,max_percent)\n",
    "    print (f\"las 5 Jurisdicciones con mayor porcentaje de población en situación de calle son:  {max_percent[:5]}\")"
   ]
  },
  {
   "cell_type": "markdown",
   "metadata": {},
   "source": [
    "8. Inciso para mostrar la jurisdicción donde la brecha entre las poblaciones diferenciadas según sexo registrado al nacer es mayor\n",
    "\n",
    "- Abro el archivo csv\n",
    "- Paso a una lista por comodidad\n",
    "- Creo una lista llamada maxim y en ella llamo a una funcion que me devuelve la jurisdiccion con mayor brecha poblacional segun sexo al nacer y la cantidad"
   ]
  },
  {
   "cell_type": "code",
   "execution_count": null,
   "metadata": {},
   "outputs": [],
   "source": [
    "with reader_path_poblation.open(mode = 'r', encoding = 'utf-8') as file_reader:\n",
    "\n",
    "    reader = csv.reader(file_reader)\n",
    "    data = list(reader)    \n",
    "\n",
    "    jurisdiction = 0\n",
    "    gap = 1\n",
    "\n",
    "\n",
    "    maxim = []\n",
    "    maxim = functions2.max_gender_jurisdiction(data, maxim)\n",
    "    print (f\"La jurisdiccion con mas brecha poblacional es {maxim[jurisdiction]} con una brecha de {maxim[gap]}\")"
   ]
  },
  {
   "cell_type": "markdown",
   "metadata": {},
   "source": [
    "9. Iniciso para mostrar los diferentes tipos de conectividad\n",
    "- Se abre el archivo de conectividad en modo lectura para trabajar con este inciso.\n",
    "- Se llama a la funcion que nos devuelve los tipos de conectividad, estos los sacamos del encabezado del archivo, donde esta funcion los retorna en una lista y lo informamos en pantalla."
   ]
  },
  {
   "cell_type": "code",
   "execution_count": null,
   "metadata": {},
   "outputs": [],
   "source": [
    "with (reader_path_conectividad.open(mode= 'r', encoding= 'utf-8') as file_conectividad):\n",
    "    reader = csv.reader(file_conectividad)\n",
    "    header = next(reader) \n",
    "    connectivities = functions2.get_connectivities(header) # La funcion nos da una lista con las conectividades.\n",
    "    print('TIPOS DE CONECTIVIDADES:')\n",
    "    for connection in connectivities:\n",
    "        print(connection)"
   ]
  },
  {
   "cell_type": "markdown",
   "metadata": {},
   "source": [
    "10. Inciso que muestra para cada conectividad, la cantidad de localidades que la poseen.\n",
    "- Se abre el archivo en modo lectura para poder trabajar con el.\n",
    "- Se guarda el iterador el archivo en modo diccionario.\n",
    "- Se llama una funcion que nos devuelve un diccionario donde la clave es el tipo de conectividad y el valor son la cantidad de localidades que la poseen. "
   ]
  },
  {
   "cell_type": "code",
   "execution_count": null,
   "metadata": {},
   "outputs": [],
   "source": [
    "with (reader_path_conectividad.open(mode='r', encoding= 'utf-8') as file_conectividad):\n",
    "    \n",
    "    reader = csv.DictReader(file_conectividad) # Iterador en formato diccionario\n",
    "    header = next(reader) # Guarda las claves del encabezado del diccionario.\n",
    "    connectivities = functions2.cant_connectivities(header,reader) #La funcion nos devuelve un diccionario\n",
    "    # connectivities sera de formato: conectividad: cantidad de localidades que la poseen.\n",
    "\n",
    "for connection in connectivities:\n",
    "    print(f' {connection}: {connectivities[connection]}')"
   ]
  },
  {
   "cell_type": "markdown",
   "metadata": {},
   "source": [
    "11. Inciso para mostrar el nombre de las provincias de las cuales todas sus ciudades tienen fibra optica.\n",
    "- Se abre el archivo de conectividad en modo de lectura.\n",
    "- Se guarda en un iterador el archivo para poder procesarlo, y se ignora el encabezado.\n",
    "- Llamamos a la funcion que filtra las provincias las cuales todas sus ciudades poseen fibra optica, y retornandolas en una lista para luego poder informarlas."
   ]
  },
  {
   "cell_type": "code",
   "execution_count": null,
   "metadata": {},
   "outputs": [],
   "source": [
    "with reader_path_conectividad.open(mode= 'r', encoding='utf-8') as file_conectividad:\n",
    "\n",
    "    reader = csv.reader(file_conectividad)\n",
    "    next(reader) # Iterador que luego sera pasado a una funcion.(Omitiendo el encabezado)\n",
    "    provincias_with_fibra_optica = functions2.get_provincias_with_fibra(reader) #La funcion nos da una lista con provincias\n",
    "    #provincias_with_fibra_optica tendra las provincias que cumplan con la condicion \n",
    "         \n",
    "for provincia in provincias_with_fibra_optica:\n",
    "    print(provincia)"
   ]
  },
  {
   "cell_type": "markdown",
   "metadata": {},
   "source": [
    "12. Inciso para mostrar para cada provincia su capital y, si se conoce la información para dicha capital, informar si posee conectividad\n",
    "\n",
    "-  Abro el archivo csv ar.\n",
    "- Primero que nada hago una lista que contenga provincia y capital , modificados para no tener errores.\n"
   ]
  },
  {
   "cell_type": "code",
   "execution_count": null,
   "metadata": {},
   "outputs": [],
   "source": [
    "capital_connectivity = []\n",
    "\n",
    "with reader_path_ar.open(mode='r', encoding='utf-8', newline='') as file_ar_reader: \n",
    "\n",
    "    capital_index = 6  # índice de capital\n",
    "    capital_name = 0  # índice del nombre\n",
    "\n",
    "    reader = csv.reader(file_ar_reader)\n",
    "    skip = next(file_ar_reader)\n",
    "\n",
    "    capital_connectivity = functions2.capitals_list(reader, capital_index, capital_name, capital_connectivity)\n",
    " "
   ]
  },
  {
   "cell_type": "markdown",
   "metadata": {},
   "source": [
    "- En la segunda parte, abro el archivo csv de conectividad.\n",
    "- Hago una lista para guardar mis datos (provincia, capital, conectividad).\n",
    "- A lo ultimo imprimo los valores correspondientes a los datos recolectados."
   ]
  },
  {
   "cell_type": "code",
   "execution_count": null,
   "metadata": {},
   "outputs": [],
   "source": [
    "with reader_path_conectividad.open(mode='r', encoding='utf-8', newline='') as file_conecctions_reader: \n",
    "\n",
    "    local = 2  # índice de la capital\n",
    "    connection = 16  # índice de la conectividad\n",
    "    province = 0\n",
    "\n",
    "\n",
    "    reader = csv.reader(file_conecctions_reader)\n",
    "    skip = next(file_conecctions_reader)\n",
    "\n",
    "    list_capitals_connectivity = []\n",
    "    list_capitals_connectivity = functions2.capitals_connectivity(capital_connectivity, reader, province, local, connection, list_capitals_connectivity)\n",
    "    print (list_capitals_connectivity)"
   ]
  }
 ],
 "metadata": {
  "kernelspec": {
   "display_name": "Python 3",
   "language": "python",
   "name": "python3"
  },
  "language_info": {
   "codemirror_mode": {
    "name": "ipython",
    "version": 3
   },
   "file_extension": ".py",
   "mimetype": "text/x-python",
   "name": "python",
   "nbconvert_exporter": "python",
   "pygments_lexer": "ipython3",
   "version": "3.11.7"
  }
 },
 "nbformat": 4,
 "nbformat_minor": 2
}
