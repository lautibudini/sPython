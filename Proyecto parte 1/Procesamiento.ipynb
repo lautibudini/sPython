{
 "cells": [
  {
   "cell_type": "markdown",
   "metadata": {},
   "source": [
    "## Proyecto Parte 1. Grupo 21"
   ]
  },
  {
   "cell_type": "markdown",
   "metadata": {},
   "source": [
    "- Importamos las librerias necesarias para poder trabajar"
   ]
  },
  {
   "cell_type": "code",
   "execution_count": 1,
   "metadata": {},
   "outputs": [],
   "source": [
    "import csv\n",
    "import modules\n",
    "from pathlib import Path"
   ]
  },
  {
   "cell_type": "markdown",
   "metadata": {},
   "source": [
    "- Configuramos las rutas relativas al entorno de trabajo en este directorio para los datasets de los aeropuertos y el de las provincias."
   ]
  },
  {
   "cell_type": "code",
   "execution_count": 2,
   "metadata": {},
   "outputs": [],
   "source": [
    "reader_path_airports = Path('datasets', 'ar-airports.csv')\n",
    "reader_path_ar = Path('datasets', 'ar.csv')\n",
    "writer_path_airports = Path('custom_dataset' ,'ar-airports.csv')"
   ]
  },
  {
   "cell_type": "markdown",
   "metadata": {},
   "source": [
    "- Abrimos y trabajamos con los dataset de los aeropuertos: \n",
    "- 1. Inicializamos los iteradores usando csv para leer los datos del archivo de aeropuertos. Leemos el encabezado y luego las filas de datos. \n",
    "- 2. Realizamos la misma operación con el otro archivo.\n",
    "- 3. Utilizamos el escritor con csv para escribir en el archivo de los aeropuertos actualizados el nuevo encabezado.\n",
    "- 4. Llamamos a las funciones para su procesamiento.\n",
    "- 5. Se escriben los nuevos datos."
   ]
  },
  {
   "cell_type": "code",
   "execution_count": 3,
   "metadata": {},
   "outputs": [],
   "source": [
    "with reader_path_airports.open(mode='r', encoding='utf-8') as airports_file, \\\n",
    "     reader_path_ar.open(mode='r', encoding='utf-8') as ar_file, \\\n",
    "     writer_path_airports.open(mode='w', newline='', encoding='utf-8') as updated_airports_file:\n",
    "\n",
    "    airports_reader = csv.reader(airports_file)\n",
    "    airports_header = next(airports_reader)  # Asigno el encabezado a variable\n",
    "    airports_data = list(airports_reader)\n",
    "\n",
    "    ar_reader = csv.reader(ar_file)\n",
    "    ar_data = list(ar_reader)\n",
    "\n",
    "    writer = csv.writer(updated_airports_file)\n",
    "    \n",
    "    # Añado 'elevation_name' y 'prov_name' al encabezado y su información a las columnas\n",
    "    airports_header.extend(['elevation_name', 'prov_name'])\n",
    "    airports_data = modules.add_elevation_airport(airports_data)\n",
    "    airports_data = modules.add_province_airport(airports_data, ar_data)\n",
    "\n",
    "    # Escribo la información actualizada \n",
    "    writer.writerow(airports_header)  # Escribe el encabezado como una fila\n",
    "    writer.writerows(airports_data)"
   ]
  },
  {
   "cell_type": "markdown",
   "metadata": {},
   "source": [
    "- Configuramos las rutas relativas al entorno de trabajo en este directorio para el dataset de conectividad."
   ]
  },
  {
   "cell_type": "code",
   "execution_count": 4,
   "metadata": {},
   "outputs": [],
   "source": [
    "reader_path_conectividad = Path('datasets','Conectividad_Internet.csv')\n",
    "writer_path_conectividad = Path('custom_dataset','Conectividad_Internet.csv')"
   ]
  },
  {
   "cell_type": "markdown",
   "metadata": {},
   "source": [
    "- Abrimos y trabajamos con el dataset de conectividad\n",
    "-    1. Creamos los iteradores de lectura y escritura\n",
    "-    2. Le agregamos una nueva columna y lo escribimos en el archivo de escritura\n",
    "-    3. Iteraremos por cada fila del archivo de lectura para tomar los datos los cuales iremos modificando y             agregando en el archivo de escritura."
   ]
  },
  {
   "cell_type": "code",
   "execution_count": 5,
   "metadata": {},
   "outputs": [],
   "source": [
    "with (\n",
    "        reader_path_conectividad.open(mode='r', encoding= 'utf-8') as conectividad_reader_file,\n",
    "        writer_path_conectividad.open(mode= 'w', encoding= 'utf-8',newline='') as conectividad_writer_file\n",
    "):\n",
    "    \n",
    "    reader = csv.reader(conectividad_reader_file)\n",
    "    writer = csv.writer(conectividad_writer_file)\n",
    "\n",
    "    header = next(reader)\n",
    "    header.append('posee conectividad')\n",
    "    writer.writerow(header)\n",
    "\n",
    "    modules.process_conectividad(reader,writer)"
   ]
  },
  {
   "cell_type": "markdown",
   "metadata": {},
   "source": [
    "- Configuramos las rutas relativas a el entorno de trabajo en este directorio para el dataset de lagos"
   ]
  },
  {
   "cell_type": "code",
   "execution_count": 6,
   "metadata": {},
   "outputs": [],
   "source": [
    "reader_path_lagos = Path('datasets','lagos_arg.csv')\n",
    "writer_path_lagos = Path('custom_dataset','lagos_arg.csv') "
   ]
  },
  {
   "cell_type": "markdown",
   "metadata": {},
   "source": [
    "- Abrimos y trabajamos con el dataset de los lagos: \n",
    "- 1. Inicializamos los iteradores usando csv para poder trabajar con ellos.\n",
    "- 2. Agregamos las columnas nuevas en el archivo.\n",
    "- 3. Ahora por cada fila iteramos y procesamos la informacion necesaria para rellenar las nuevas columnas"
   ]
  },
  {
   "cell_type": "code",
   "execution_count": 7,
   "metadata": {},
   "outputs": [],
   "source": [
    "with (\n",
    "    reader_path_lagos.open(mode = 'r', encoding = 'utf-8') as lagos_reader_file,\n",
    "    writer_path_lagos.open(mode = 'w', encoding = 'utf-8', newline='') as lagos_writer_file\n",
    "):\n",
    "    reader = csv.reader(lagos_reader_file)\n",
    "    writer = csv.writer(lagos_writer_file)\n",
    "    \n",
    "    header = next(reader)\n",
    "    header.append('latitud')\n",
    "    header.append('longitud')\n",
    "    header.append('sup tamaño')\n",
    "    writer.writerow(header)\n",
    "    \n",
    "\n",
    "    modules.process(reader,writer)\n"
   ]
  },
  {
   "cell_type": "markdown",
   "metadata": {},
   "source": [
    "- Configuramos las rutas relativas al entorno de trabajo en este directorio para el dataset de censo poblacion 2022"
   ]
  },
  {
   "cell_type": "code",
   "execution_count": 8,
   "metadata": {},
   "outputs": [],
   "source": [
    "reader_path_poblation = Path( 'datasets', 'c2022_tp_c_resumen_adaptado.csv') \n",
    "writer_path_poblation = Path('custom_dataset', 'c2022_tp_c_resumen_adaptado.csv')  \n"
   ]
  },
  {
   "cell_type": "markdown",
   "metadata": {},
   "source": [
    "- Abrimos y trabajamos con el dataset de poblacion\n",
    "-    1. Preparamos un iterador y un modificador para poder trabajar \n",
    "-    2. Le agregamos una nueva columna y lo escribimos en el archivo de escritura\n",
    "-    3. Modificamos los \"///\" y \"-\" para poder trabajar\n",
    "-    4. Calculamos porcentaje de poblacion en situacion de calle"
   ]
  },
  {
   "cell_type": "code",
   "execution_count": 9,
   "metadata": {},
   "outputs": [],
   "source": [
    "with (\n",
    "    reader_path_poblation.open(mode = 'r', encoding = 'utf-8') as file_reader, \n",
    "    writer_path_poblation.open(mode = 'w', newline= '', encoding = 'utf-8') as file_writer \n",
    "):\n",
    "    reader = csv.reader(file_reader)\n",
    "    writer = csv.writer(file_writer)\n",
    "\n",
    "\n",
    "    header = next(reader)\n",
    "    header.append('Porcentaje pobreza')\n",
    "    writer.writerow(header)\n",
    "    \n",
    "    modules.poblation_process(reader,writer)"
   ]
  }
 ],
 "metadata": {
  "kernelspec": {
   "display_name": "Python 3 (ipykernel)",
   "language": "python",
   "name": "python3"
  },
  "language_info": {
   "codemirror_mode": {
    "name": "ipython",
    "version": 3
   },
   "file_extension": ".py",
   "mimetype": "text/x-python",
   "name": "python",
   "nbconvert_exporter": "python",
   "pygments_lexer": "ipython3",
   "version": "3.11.7"
  }
 },
 "nbformat": 4,
 "nbformat_minor": 4
}
