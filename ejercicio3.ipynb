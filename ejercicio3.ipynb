{
 "cells": [
  {
   "cell_type": "markdown",
   "metadata": {},
   "source": [
    "- ejercicio 3."
   ]
  },
  {
   "cell_type": "code",
   "execution_count": 57,
   "metadata": {},
   "outputs": [],
   "source": [
    "jupyter_info = \"\"\" JupyterLab is a web-based interactive development\n",
    "environment for Jupyter Notebooks, code, and data. JupyterLab is\n",
    "flexible: configure and arrange the user interface to support a wide\n",
    "range of workflows in data science, scientific computing, and machine\n",
    "learning. JupyterLab is extensible and modular: write plugins that add\n",
    "new components and integrate with existing ones. \"\"\"\n"
   ]
  },
  {
   "cell_type": "markdown",
   "metadata": {},
   "source": [
    "Defino una funcion imprir que pase el texto a minusculas y luego lo separe por palabras.\n",
    "Para verificar que contenga la letra con un for recorro todas las palabras y si esta en esa imprimo sino sigue\n"
   ]
  },
  {
   "cell_type": "code",
   "execution_count": 58,
   "metadata": {},
   "outputs": [],
   "source": [
    "def imprimir(char):\n",
    "    palabras = jupyter_info.lower()\n",
    "    palabras = palabras.split(\" \")\n",
    "    for palabra in palabras:\n",
    "        for letra in palabra:\n",
    "            if (char == letra):\n",
    "                print(palabra)\n",
    "                break      \n",
    "            \n"
   ]
  },
  {
   "cell_type": "markdown",
   "metadata": {},
   "source": [
    "Programa = pido que ingrese una letra, y para verificar que lo sea: \n",
    "- 1. debe tener longitud 1 \n",
    "- 2. por la tabla ascii debe estar entre a ...z (codigo)\n",
    "- si cumple llama a la funcion imprimir, caso contrario da error"
   ]
  },
  {
   "cell_type": "code",
   "execution_count": 59,
   "metadata": {},
   "outputs": [
    {
     "name": "stdout",
     "output_type": "stream",
     "text": [
      "jupyterlab\n",
      "a\n",
      "web-based\n",
      "interactive\n",
      "and\n",
      "data.\n",
      "jupyterlab\n",
      "and\n",
      "arrange\n",
      "interface\n",
      "a\n",
      "wide\n",
      "range\n",
      "data\n",
      "and\n",
      "machine\n",
      "learning.\n",
      "jupyterlab\n",
      "and\n",
      "modular:\n",
      "that\n",
      "add\n",
      "new\n",
      "and\n",
      "integrate\n"
     ]
    }
   ],
   "source": [
    "char = input('ingrese una letra ')\n",
    "char = char.lower()\n",
    "if (len(char) == 1) and (char >= 'a') and (char<='z'):\n",
    "    imprimir(char)\n",
    "else:\n",
    "    print('Error , no ingreso una letra')"
   ]
  }
 ],
 "metadata": {
  "kernelspec": {
   "display_name": "venv",
   "language": "python",
   "name": "python3"
  },
  "language_info": {
   "codemirror_mode": {
    "name": "ipython",
    "version": 3
   },
   "file_extension": ".py",
   "mimetype": "text/x-python",
   "name": "python",
   "nbconvert_exporter": "python",
   "pygments_lexer": "ipython3",
   "version": "3.11.7"
  }
 },
 "nbformat": 4,
 "nbformat_minor": 2
}
